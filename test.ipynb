{
 "cells": [
  {
   "cell_type": "code",
   "execution_count": 2,
   "metadata": {},
   "outputs": [],
   "source": [
    "line = \"2022/11/1/0/0/41/62.138.179.199/54706/123.45.67.89/23/comjae,kuuhaku,comjae\""
   ]
  },
  {
   "cell_type": "code",
   "execution_count": 8,
   "metadata": {},
   "outputs": [
    {
     "name": "stdout",
     "output_type": "stream",
     "text": [
      "comjae comjae\n"
     ]
    }
   ],
   "source": [
    "s = line.split('/')\n",
    "from datetime import datetime as dt\n",
    "datestr = dt.strptime(f\"{s[0]}-{s[1]}-{s[2]} {s[3]}:{s[4]}:{s[5]}\", \"%Y-%m-%d %H:%M:%S\")\n",
    "idpass = s[10].split(',')\n",
    "id = idpass[0]\n",
    "password = idpass[2]\n",
    "print(id,password)"
   ]
  },
  {
   "attachments": {},
   "cell_type": "markdown",
   "metadata": {},
   "source": [
    "6分ぶんのlistを作成する\n",
    "\n",
    "行を読み込む\n",
    "if not list:\n",
    "    startdate=list[0]のdate\n",
    "else:\n",
    "\n",
    "    最新のdatestrとlist[0]のdateを比べる\n",
    "\n",
    "\n",
    "latestdate\n",
    "\n",
    "{password : [id, datestr, \n"
   ]
  }
 ],
 "metadata": {
  "kernelspec": {
   "display_name": "Python 3",
   "language": "python",
   "name": "python3"
  },
  "language_info": {
   "codemirror_mode": {
    "name": "ipython",
    "version": 3
   },
   "file_extension": ".py",
   "mimetype": "text/x-python",
   "name": "python",
   "nbconvert_exporter": "python",
   "pygments_lexer": "ipython3",
   "version": "3.9.13"
  },
  "orig_nbformat": 4,
  "vscode": {
   "interpreter": {
    "hash": "16b516f04a02b9dc7d0664a23e439a7c19a46d711efc213d028804281cdf4a1c"
   }
  }
 },
 "nbformat": 4,
 "nbformat_minor": 2
}
