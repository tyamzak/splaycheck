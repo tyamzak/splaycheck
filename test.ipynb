{
 "cells": [
  {
   "cell_type": "code",
   "execution_count": 12,
   "metadata": {},
   "outputs": [],
   "source": [
    "from datetime import datetime as dt\n",
    "from datetime import timedelta as d"
   ]
  },
  {
   "cell_type": "code",
   "execution_count": 33,
   "metadata": {},
   "outputs": [],
   "source": [
    "def splay_count(lines:list)->list:\n",
    "    #dictのリストを返す\n",
    "    return "
   ]
  },
  {
   "cell_type": "code",
   "execution_count": 35,
   "metadata": {},
   "outputs": [],
   "source": [
    "def pop_old(lines:list, new_accessed_date:dt, xmin:d)->list:\n",
    "\n",
    "    oldest = new_accessed_date - xmin\n",
    "\n",
    "    while True:\n",
    "        if lines[0][0] < oldest:\n",
    "            lines.pop(0)\n",
    "        else:\n",
    "            break\n",
    "    #listを返す\n",
    "    return lines"
   ]
  },
  {
   "cell_type": "code",
   "execution_count": 36,
   "metadata": {},
   "outputs": [],
   "source": [
    "def read_log(path):\n",
    "\n",
    "    lines_xmin = []\n",
    "    dictlists = []\n",
    "    with open(path, 'r', encoding='utf-8', errors='ignore') as f:\n",
    "        read_state = 0\n",
    "        while True:\n",
    "            line = f.readline()\n",
    "            if not line:\n",
    "                break\n",
    "\n",
    "            else:\n",
    "                s = line.split('/')\n",
    "\n",
    "                xmin = d(minutes=6)\n",
    "                    \n",
    "                accessed_date = dt.strptime(f\"{s[0]}-{s[1]}-{s[2]} {s[3]}:{s[4]}:{s[5]}\", \"%Y-%m-%d %H:%M:%S\")\n",
    "\n",
    "                # 初回限定の処理\n",
    "                if not lines_xmin:\n",
    "                    startdate = accessed_date\n",
    "                    enddate = startdate + xmin\n",
    "\n",
    "                # 規定秒数分のログが溜まったら\n",
    "                if accessed_date > enddate:\n",
    "                    #splayのカウントを行う\n",
    "                    dictlist = splay_count(lines_xmin)\n",
    "                    if dictlist:\n",
    "                        dictlists += dictlist\n",
    "\n",
    "                    #新しいaccessed_dateのxmin前以前のlistをポップする\n",
    "                    lines_xmin = pop_old(lines_xmin,accessed_date,xmin)\n",
    "\n",
    "                idpass = s[10].split(',')\n",
    "                id = idpass[0]\n",
    "                password = idpass[2]\n",
    "\n",
    "                lines_xmin.append([accessed_date,id,password])\n",
    "\n",
    "\n",
    "\n",
    "    return dictlists"
   ]
  },
  {
   "cell_type": "code",
   "execution_count": 38,
   "metadata": {},
   "outputs": [
    {
     "ename": "IndexError",
     "evalue": "list index out of range",
     "output_type": "error",
     "traceback": [
      "\u001b[1;31m---------------------------------------------------------------------------\u001b[0m",
      "\u001b[1;31mIndexError\u001b[0m                                Traceback (most recent call last)",
      "\u001b[1;32mc:\\Users\\user\\splaycheck\\test.ipynb Cell 5\u001b[0m in \u001b[0;36m<cell line: 4>\u001b[1;34m()\u001b[0m\n\u001b[0;32m      <a href='vscode-notebook-cell:/c%3A/Users/user/splaycheck/test.ipynb#W3sZmlsZQ%3D%3D?line=0'>1</a>\u001b[0m dictlist \u001b[39m=\u001b[39m []\n\u001b[0;32m      <a href='vscode-notebook-cell:/c%3A/Users/user/splaycheck/test.ipynb#W3sZmlsZQ%3D%3D?line=1'>2</a>\u001b[0m filepath \u001b[39m=\u001b[39m \u001b[39m\"\u001b[39m\u001b[39mlog.txt\u001b[39m\u001b[39m\"\u001b[39m\n\u001b[1;32m----> <a href='vscode-notebook-cell:/c%3A/Users/user/splaycheck/test.ipynb#W3sZmlsZQ%3D%3D?line=3'>4</a>\u001b[0m dictlist \u001b[39m=\u001b[39m read_log(filepath)\n",
      "\u001b[1;32mc:\\Users\\user\\splaycheck\\test.ipynb Cell 5\u001b[0m in \u001b[0;36mread_log\u001b[1;34m(path)\u001b[0m\n\u001b[0;32m     <a href='vscode-notebook-cell:/c%3A/Users/user/splaycheck/test.ipynb#W3sZmlsZQ%3D%3D?line=33'>34</a>\u001b[0m             idpass \u001b[39m=\u001b[39m s[\u001b[39m10\u001b[39m]\u001b[39m.\u001b[39msplit(\u001b[39m'\u001b[39m\u001b[39m,\u001b[39m\u001b[39m'\u001b[39m)\n\u001b[0;32m     <a href='vscode-notebook-cell:/c%3A/Users/user/splaycheck/test.ipynb#W3sZmlsZQ%3D%3D?line=34'>35</a>\u001b[0m             \u001b[39mid\u001b[39m \u001b[39m=\u001b[39m idpass[\u001b[39m0\u001b[39m]\n\u001b[1;32m---> <a href='vscode-notebook-cell:/c%3A/Users/user/splaycheck/test.ipynb#W3sZmlsZQ%3D%3D?line=35'>36</a>\u001b[0m             password \u001b[39m=\u001b[39m idpass[\u001b[39m2\u001b[39;49m]\n\u001b[0;32m     <a href='vscode-notebook-cell:/c%3A/Users/user/splaycheck/test.ipynb#W3sZmlsZQ%3D%3D?line=37'>38</a>\u001b[0m             lines_xmin\u001b[39m.\u001b[39mappend([accessed_date,\u001b[39mid\u001b[39m,password])\n\u001b[0;32m     <a href='vscode-notebook-cell:/c%3A/Users/user/splaycheck/test.ipynb#W3sZmlsZQ%3D%3D?line=41'>42</a>\u001b[0m \u001b[39mreturn\u001b[39;00m dictlists\n",
      "\u001b[1;31mIndexError\u001b[0m: list index out of range"
     ]
    }
   ],
   "source": [
    "\n",
    "dictlist = []\n",
    "filepath = \"log.txt\"\n",
    "\n",
    "dictlist = read_log(filepath)\n"
   ]
  },
  {
   "attachments": {},
   "cell_type": "markdown",
   "metadata": {},
   "source": [
    "6分ぶんのlistを作成する\n",
    "\n",
    "行を読み込む\n",
    "if not list:\n",
    "    startdate=list[0]のdate\n",
    "else:\n",
    "\n",
    "    最新のdatestrとlist[0]のdateを比べる\n",
    "\n",
    "\n",
    "latestdate\n",
    "\n",
    "{password : [id, datestr, \n"
   ]
  }
 ],
 "metadata": {
  "kernelspec": {
   "display_name": "Python 3",
   "language": "python",
   "name": "python3"
  },
  "language_info": {
   "codemirror_mode": {
    "name": "ipython",
    "version": 3
   },
   "file_extension": ".py",
   "mimetype": "text/x-python",
   "name": "python",
   "nbconvert_exporter": "python",
   "pygments_lexer": "ipython3",
   "version": "3.9.13 (tags/v3.9.13:6de2ca5, May 17 2022, 16:36:42) [MSC v.1929 64 bit (AMD64)]"
  },
  "orig_nbformat": 4,
  "vscode": {
   "interpreter": {
    "hash": "497338f01161d141240caa60efca5087225791fadc9b7c964beb65d863e046f0"
   }
  }
 },
 "nbformat": 4,
 "nbformat_minor": 2
}
